{
 "cells": [
  {
   "cell_type": "code",
   "execution_count": null,
   "id": "b08df30c",
   "metadata": {},
   "outputs": [],
   "source": [
    "# Librerías estándar de Python\n",
    "import os  # Proporciona funciones para interactuar con el sistema operativo (por ejemplo, manejo de archivos y directorios).\n",
    "import pickle  # Permite la serialización y deserialización de objetos de Python (guardar y cargar estructuras de datos).\n",
    "\n",
    "# Librerías de terceros para análisis y visualización de datos\n",
    "import pandas as pd  # Herramientas para manipulación y análisis de datos estructurados (DataFrames, series temporales).\n",
    "# Importación de funciones propias del proyecto\n",
    "from preprocessing import extract_features_with_majority_label, parse_personal_info, extract_float\n",
    "import re\n",
    "import numpy as np\n",
    "from collections import Counter\n",
    "import time"
   ]
  },
  {
   "cell_type": "code",
   "execution_count": 7,
   "id": "b190333a",
   "metadata": {},
   "outputs": [
    {
     "name": "stdout",
     "output_type": "stream",
     "text": [
      "Claves del diccionario principal: dict_keys(['signal', 'label', 'subject'])\n",
      "Claves de 'signal': dict_keys(['chest', 'wrist'])\n"
     ]
    }
   ],
   "source": [
    "# Definición de la ruta al directorio WESAD y carga del archivo S11.pkl\n",
    "WESAD_ROOT = \"/Users/gerardoaboulafia/Library/Mobile Documents/com~apple~CloudDocs/UCA/Documentos/Cuatrimestre 5/Laboratorio/WESAD\"\n",
    "\n",
    "with open(os.path.join(WESAD_ROOT, \"S11\", \"S11.pkl\"), \"rb\") as f:\n",
    "    data = pickle.load(f, encoding='latin1')\n",
    "\n",
    "# Exploramos las claves principales\n",
    "print(\"Claves del diccionario principal:\", data.keys())\n",
    "print(\"Claves de 'signal':\", data['signal'].keys())"
   ]
  },
  {
   "cell_type": "markdown",
   "id": "105c801b",
   "metadata": {},
   "source": [
    "-----"
   ]
  },
  {
   "cell_type": "markdown",
   "id": "0c0a7276",
   "metadata": {},
   "source": [
    "En esta segunda sección se implementa un pipeline completo de procesamiento y análisis del dataset WESAD para múltiples pacientes. El objetivo es extraer información fisiológica relevante, vincularla con metadatos personales, y entrenar un modelo de clasificación supervisado para distinguir entre dos estados emocionales (etiquetas 1 y 2).\n",
    "\n",
    "Para cada paciente:\n",
    "- Se busca y carga automáticamente el archivo .pkl con las señales fisiológicas y el archivo readme.txt con la información demográfica.\n",
    "- Se aplica una función de extracción de características basada en ventanas deslizantes sobre las señales ACC, EDA y Temperatura, generando un vector de 17 estadísticas por ventana (media, desvío estándar, máximos, pendiente, etc.).\n",
    "- Se asigna la etiqueta mayoritaria de cada ventana y se estructura todo en un DataFrame enriquecido con los datos del participante (edad, género, mano dominante, etc.).\n",
    "\n",
    "Posteriormente, se concatenan los datos de todos los sujetos en un único DataFrame global."
   ]
  },
  {
   "cell_type": "code",
   "execution_count": 8,
   "id": "97a5de3b",
   "metadata": {},
   "outputs": [
    {
     "name": "stdout",
     "output_type": "stream",
     "text": [
      " Procesando S10...\n",
      "Procesado: 0/21744 ventanas (0.0%)\n",
      "Procesado: 1088/21744 ventanas (5.0%)\n",
      "Procesado: 2176/21744 ventanas (10.0%)\n",
      "Procesado: 3264/21744 ventanas (15.0%)\n",
      "Procesado: 4352/21744 ventanas (20.0%)\n",
      "Procesado: 5440/21744 ventanas (25.0%)\n",
      "Procesado: 6528/21744 ventanas (30.0%)\n",
      "Procesado: 7616/21744 ventanas (35.0%)\n",
      "Procesado: 8704/21744 ventanas (40.0%)\n",
      "Procesado: 9792/21744 ventanas (45.0%)\n",
      "Procesado: 10880/21744 ventanas (50.0%)\n",
      "Procesado: 11968/21744 ventanas (55.0%)\n",
      "Procesado: 13056/21744 ventanas (60.0%)\n",
      "Procesado: 14144/21744 ventanas (65.0%)\n",
      "Procesado: 15232/21744 ventanas (70.1%)\n",
      "Procesado: 16320/21744 ventanas (75.1%)\n",
      "Procesado: 17408/21744 ventanas (80.1%)\n",
      "Procesado: 18496/21744 ventanas (85.1%)\n",
      "Procesado: 19584/21744 ventanas (90.1%)\n",
      "Procesado: 20672/21744 ventanas (95.1%)\n",
      "\n",
      " Extracción finalizada en 229.72 segundos.\n",
      " S10 procesado: 21744 ventanas\n"
     ]
    },
    {
     "name": "stderr",
     "output_type": "stream",
     "text": [
      "/Users/gerardoaboulafia/Downloads/preprocessing.py:84: VisibleDeprecationWarning: Creating an ndarray from ragged nested sequences (which is a list-or-tuple of lists-or-tuples-or ndarrays with different lengths or shapes) is deprecated. If you meant to do this, you must specify 'dtype=object' when creating the ndarray.\n",
      "  return np.array(features_list), np.array(labels_list)\n"
     ]
    },
    {
     "name": "stdout",
     "output_type": "stream",
     "text": [
      " Procesando S11...\n",
      "Procesado: 0/20692 ventanas (0.0%)\n",
      "Procesado: 1035/20692 ventanas (5.0%)\n",
      "Procesado: 2070/20692 ventanas (10.0%)\n",
      "Procesado: 3105/20692 ventanas (15.0%)\n",
      "Procesado: 4140/20692 ventanas (20.0%)\n",
      "Procesado: 5175/20692 ventanas (25.0%)\n",
      "Procesado: 6210/20692 ventanas (30.0%)\n",
      "Procesado: 7245/20692 ventanas (35.0%)\n",
      "Procesado: 8280/20692 ventanas (40.0%)\n",
      "Procesado: 9315/20692 ventanas (45.0%)\n",
      "Procesado: 10350/20692 ventanas (50.0%)\n",
      "Procesado: 11385/20692 ventanas (55.0%)\n",
      "Procesado: 12420/20692 ventanas (60.0%)\n",
      "Procesado: 13455/20692 ventanas (65.0%)\n",
      "Procesado: 14490/20692 ventanas (70.0%)\n",
      "Procesado: 15525/20692 ventanas (75.0%)\n",
      "Procesado: 16560/20692 ventanas (80.0%)\n",
      "Procesado: 17595/20692 ventanas (85.0%)\n",
      "Procesado: 18630/20692 ventanas (90.0%)\n",
      "Procesado: 19665/20692 ventanas (95.0%)\n",
      "\n",
      " Extracción finalizada en 216.16 segundos.\n",
      " S11 procesado: 20692 ventanas\n"
     ]
    },
    {
     "name": "stderr",
     "output_type": "stream",
     "text": [
      "/Users/gerardoaboulafia/Downloads/preprocessing.py:84: VisibleDeprecationWarning: Creating an ndarray from ragged nested sequences (which is a list-or-tuple of lists-or-tuples-or ndarrays with different lengths or shapes) is deprecated. If you meant to do this, you must specify 'dtype=object' when creating the ndarray.\n",
      "  return np.array(features_list), np.array(labels_list)\n"
     ]
    },
    {
     "name": "stdout",
     "output_type": "stream",
     "text": [
      " Procesando S13...\n",
      "Procesado: 0/21908 ventanas (0.0%)\n",
      "Procesado: 1096/21908 ventanas (5.0%)\n",
      "Procesado: 2192/21908 ventanas (10.0%)\n",
      "Procesado: 3288/21908 ventanas (15.0%)\n",
      "Procesado: 4384/21908 ventanas (20.0%)\n",
      "Procesado: 5480/21908 ventanas (25.0%)\n",
      "Procesado: 6576/21908 ventanas (30.0%)\n",
      "Procesado: 7672/21908 ventanas (35.0%)\n",
      "Procesado: 8768/21908 ventanas (40.0%)\n",
      "Procesado: 9864/21908 ventanas (45.0%)\n",
      "Procesado: 10960/21908 ventanas (50.0%)\n",
      "Procesado: 12056/21908 ventanas (55.0%)\n",
      "Procesado: 13152/21908 ventanas (60.0%)\n",
      "Procesado: 14248/21908 ventanas (65.0%)\n",
      "Procesado: 15344/21908 ventanas (70.0%)\n",
      "Procesado: 16440/21908 ventanas (75.0%)\n",
      "Procesado: 17536/21908 ventanas (80.0%)\n",
      "Procesado: 18632/21908 ventanas (85.0%)\n",
      "Procesado: 19728/21908 ventanas (90.0%)\n",
      "Procesado: 20824/21908 ventanas (95.1%)\n",
      "\n",
      " Extracción finalizada en 226.41 segundos.\n",
      " S13 procesado: 21908 ventanas\n"
     ]
    },
    {
     "name": "stderr",
     "output_type": "stream",
     "text": [
      "/Users/gerardoaboulafia/Downloads/preprocessing.py:84: VisibleDeprecationWarning: Creating an ndarray from ragged nested sequences (which is a list-or-tuple of lists-or-tuples-or ndarrays with different lengths or shapes) is deprecated. If you meant to do this, you must specify 'dtype=object' when creating the ndarray.\n",
      "  return np.array(features_list), np.array(labels_list)\n"
     ]
    },
    {
     "name": "stdout",
     "output_type": "stream",
     "text": [
      " Procesando S14...\n",
      "Procesado: 0/21952 ventanas (0.0%)\n",
      "Procesado: 1098/21952 ventanas (5.0%)\n",
      "Procesado: 2196/21952 ventanas (10.0%)\n",
      "Procesado: 3294/21952 ventanas (15.0%)\n",
      "Procesado: 4392/21952 ventanas (20.0%)\n",
      "Procesado: 5490/21952 ventanas (25.0%)\n",
      "Procesado: 6588/21952 ventanas (30.0%)\n",
      "Procesado: 7686/21952 ventanas (35.0%)\n",
      "Procesado: 8784/21952 ventanas (40.0%)\n",
      "Procesado: 9882/21952 ventanas (45.0%)\n",
      "Procesado: 10980/21952 ventanas (50.0%)\n",
      "Procesado: 12078/21952 ventanas (55.0%)\n",
      "Procesado: 13176/21952 ventanas (60.0%)\n",
      "Procesado: 14274/21952 ventanas (65.0%)\n",
      "Procesado: 15372/21952 ventanas (70.0%)\n",
      "Procesado: 16470/21952 ventanas (75.0%)\n",
      "Procesado: 17568/21952 ventanas (80.0%)\n",
      "Procesado: 18666/21952 ventanas (85.0%)\n",
      "Procesado: 19764/21952 ventanas (90.0%)\n",
      "Procesado: 20862/21952 ventanas (95.0%)\n",
      "\n",
      " Extracción finalizada en 229.89 segundos.\n",
      " S14 procesado: 21952 ventanas\n"
     ]
    },
    {
     "name": "stderr",
     "output_type": "stream",
     "text": [
      "/Users/gerardoaboulafia/Downloads/preprocessing.py:84: VisibleDeprecationWarning: Creating an ndarray from ragged nested sequences (which is a list-or-tuple of lists-or-tuples-or ndarrays with different lengths or shapes) is deprecated. If you meant to do this, you must specify 'dtype=object' when creating the ndarray.\n",
      "  return np.array(features_list), np.array(labels_list)\n"
     ]
    },
    {
     "name": "stdout",
     "output_type": "stream",
     "text": [
      " Procesando S15...\n",
      "Procesado: 0/20768 ventanas (0.0%)\n",
      "Procesado: 1039/20768 ventanas (5.0%)\n",
      "Procesado: 2078/20768 ventanas (10.0%)\n",
      "Procesado: 3117/20768 ventanas (15.0%)\n",
      "Procesado: 4156/20768 ventanas (20.0%)\n",
      "Procesado: 5195/20768 ventanas (25.0%)\n",
      "Procesado: 6234/20768 ventanas (30.0%)\n",
      "Procesado: 7273/20768 ventanas (35.0%)\n",
      "Procesado: 8312/20768 ventanas (40.0%)\n",
      "Procesado: 9351/20768 ventanas (45.0%)\n",
      "Procesado: 10390/20768 ventanas (50.0%)\n",
      "Procesado: 11429/20768 ventanas (55.0%)\n",
      "Procesado: 12468/20768 ventanas (60.0%)\n",
      "Procesado: 13507/20768 ventanas (65.0%)\n",
      "Procesado: 14546/20768 ventanas (70.0%)\n",
      "Procesado: 15585/20768 ventanas (75.0%)\n",
      "Procesado: 16624/20768 ventanas (80.0%)\n",
      "Procesado: 17663/20768 ventanas (85.0%)\n",
      "Procesado: 18702/20768 ventanas (90.1%)\n",
      "Procesado: 19741/20768 ventanas (95.1%)\n",
      "\n",
      " Extracción finalizada en 215.68 segundos.\n",
      " S15 procesado: 20768 ventanas\n"
     ]
    },
    {
     "name": "stderr",
     "output_type": "stream",
     "text": [
      "/Users/gerardoaboulafia/Downloads/preprocessing.py:84: VisibleDeprecationWarning: Creating an ndarray from ragged nested sequences (which is a list-or-tuple of lists-or-tuples-or ndarrays with different lengths or shapes) is deprecated. If you meant to do this, you must specify 'dtype=object' when creating the ndarray.\n",
      "  return np.array(features_list), np.array(labels_list)\n"
     ]
    },
    {
     "name": "stdout",
     "output_type": "stream",
     "text": [
      " Procesando S16...\n",
      "Procesado: 0/22284 ventanas (0.0%)\n",
      "Procesado: 1115/22284 ventanas (5.0%)\n",
      "Procesado: 2230/22284 ventanas (10.0%)\n",
      "Procesado: 3345/22284 ventanas (15.0%)\n",
      "Procesado: 4460/22284 ventanas (20.0%)\n",
      "Procesado: 5575/22284 ventanas (25.0%)\n",
      "Procesado: 6690/22284 ventanas (30.0%)\n",
      "Procesado: 7805/22284 ventanas (35.0%)\n",
      "Procesado: 8920/22284 ventanas (40.0%)\n",
      "Procesado: 10035/22284 ventanas (45.0%)\n",
      "Procesado: 11150/22284 ventanas (50.0%)\n",
      "Procesado: 12265/22284 ventanas (55.0%)\n",
      "Procesado: 13380/22284 ventanas (60.0%)\n",
      "Procesado: 14495/22284 ventanas (65.0%)\n",
      "Procesado: 15610/22284 ventanas (70.1%)\n",
      "Procesado: 16725/22284 ventanas (75.1%)\n",
      "Procesado: 17840/22284 ventanas (80.1%)\n",
      "Procesado: 18955/22284 ventanas (85.1%)\n",
      "Procesado: 20070/22284 ventanas (90.1%)\n",
      "Procesado: 21185/22284 ventanas (95.1%)\n",
      "\n",
      " Extracción finalizada en 230.30 segundos.\n",
      " S16 procesado: 22284 ventanas\n"
     ]
    },
    {
     "name": "stderr",
     "output_type": "stream",
     "text": [
      "/Users/gerardoaboulafia/Downloads/preprocessing.py:84: VisibleDeprecationWarning: Creating an ndarray from ragged nested sequences (which is a list-or-tuple of lists-or-tuples-or ndarrays with different lengths or shapes) is deprecated. If you meant to do this, you must specify 'dtype=object' when creating the ndarray.\n",
      "  return np.array(features_list), np.array(labels_list)\n"
     ]
    },
    {
     "name": "stdout",
     "output_type": "stream",
     "text": [
      " Procesando S17...\n",
      "Procesado: 0/23440 ventanas (0.0%)\n",
      "Procesado: 1173/23440 ventanas (5.0%)\n",
      "Procesado: 2346/23440 ventanas (10.0%)\n",
      "Procesado: 3519/23440 ventanas (15.0%)\n",
      "Procesado: 4692/23440 ventanas (20.0%)\n",
      "Procesado: 5865/23440 ventanas (25.0%)\n",
      "Procesado: 7038/23440 ventanas (30.0%)\n",
      "Procesado: 8211/23440 ventanas (35.0%)\n",
      "Procesado: 9384/23440 ventanas (40.0%)\n",
      "Procesado: 10557/23440 ventanas (45.0%)\n",
      "Procesado: 11730/23440 ventanas (50.0%)\n",
      "Procesado: 12903/23440 ventanas (55.0%)\n",
      "Procesado: 14076/23440 ventanas (60.1%)\n",
      "Procesado: 15249/23440 ventanas (65.1%)\n",
      "Procesado: 16422/23440 ventanas (70.1%)\n",
      "Procesado: 17595/23440 ventanas (75.1%)\n",
      "Procesado: 18768/23440 ventanas (80.1%)\n",
      "Procesado: 19941/23440 ventanas (85.1%)\n",
      "Procesado: 21114/23440 ventanas (90.1%)\n",
      "Procesado: 22287/23440 ventanas (95.1%)\n",
      "\n",
      " Extracción finalizada en 242.19 segundos.\n",
      " S17 procesado: 23440 ventanas\n"
     ]
    },
    {
     "name": "stderr",
     "output_type": "stream",
     "text": [
      "/Users/gerardoaboulafia/Downloads/preprocessing.py:84: VisibleDeprecationWarning: Creating an ndarray from ragged nested sequences (which is a list-or-tuple of lists-or-tuples-or ndarrays with different lengths or shapes) is deprecated. If you meant to do this, you must specify 'dtype=object' when creating the ndarray.\n",
      "  return np.array(features_list), np.array(labels_list)\n"
     ]
    },
    {
     "name": "stdout",
     "output_type": "stream",
     "text": [
      " Procesando S2...\n",
      "Procesado: 0/24076 ventanas (0.0%)\n",
      "Procesado: 1204/24076 ventanas (5.0%)\n",
      "Procesado: 2408/24076 ventanas (10.0%)\n",
      "Procesado: 3612/24076 ventanas (15.0%)\n",
      "Procesado: 4816/24076 ventanas (20.0%)\n",
      "Procesado: 6020/24076 ventanas (25.0%)\n",
      "Procesado: 7224/24076 ventanas (30.0%)\n",
      "Procesado: 8428/24076 ventanas (35.0%)\n",
      "Procesado: 9632/24076 ventanas (40.0%)\n",
      "Procesado: 10836/24076 ventanas (45.0%)\n",
      "Procesado: 12040/24076 ventanas (50.0%)\n",
      "Procesado: 13244/24076 ventanas (55.0%)\n",
      "Procesado: 14448/24076 ventanas (60.0%)\n",
      "Procesado: 15652/24076 ventanas (65.0%)\n",
      "Procesado: 16856/24076 ventanas (70.0%)\n",
      "Procesado: 18060/24076 ventanas (75.0%)\n",
      "Procesado: 19264/24076 ventanas (80.0%)\n",
      "Procesado: 20468/24076 ventanas (85.0%)\n",
      "Procesado: 21672/24076 ventanas (90.0%)\n",
      "Procesado: 22876/24076 ventanas (95.0%)\n",
      "\n",
      " Extracción finalizada en 246.59 segundos.\n",
      " S2 procesado: 24076 ventanas\n"
     ]
    },
    {
     "name": "stderr",
     "output_type": "stream",
     "text": [
      "/Users/gerardoaboulafia/Downloads/preprocessing.py:84: VisibleDeprecationWarning: Creating an ndarray from ragged nested sequences (which is a list-or-tuple of lists-or-tuples-or ndarrays with different lengths or shapes) is deprecated. If you meant to do this, you must specify 'dtype=object' when creating the ndarray.\n",
      "  return np.array(features_list), np.array(labels_list)\n"
     ]
    },
    {
     "name": "stdout",
     "output_type": "stream",
     "text": [
      " Procesando S3...\n",
      "Procesado: 0/25732 ventanas (0.0%)\n",
      "Procesado: 1287/25732 ventanas (5.0%)\n",
      "Procesado: 2574/25732 ventanas (10.0%)\n",
      "Procesado: 3861/25732 ventanas (15.0%)\n",
      "Procesado: 5148/25732 ventanas (20.0%)\n",
      "Procesado: 6435/25732 ventanas (25.0%)\n",
      "Procesado: 7722/25732 ventanas (30.0%)\n",
      "Procesado: 9009/25732 ventanas (35.0%)\n",
      "Procesado: 10296/25732 ventanas (40.0%)\n",
      "Procesado: 11583/25732 ventanas (45.0%)\n",
      "Procesado: 12870/25732 ventanas (50.0%)\n",
      "Procesado: 14157/25732 ventanas (55.0%)\n",
      "Procesado: 15444/25732 ventanas (60.0%)\n",
      "Procesado: 16731/25732 ventanas (65.0%)\n",
      "Procesado: 18018/25732 ventanas (70.0%)\n",
      "Procesado: 19305/25732 ventanas (75.0%)\n",
      "Procesado: 20592/25732 ventanas (80.0%)\n",
      "Procesado: 21879/25732 ventanas (85.0%)\n",
      "Procesado: 23166/25732 ventanas (90.0%)\n",
      "Procesado: 24453/25732 ventanas (95.0%)\n",
      "\n",
      " Extracción finalizada en 262.68 segundos.\n",
      " S3 procesado: 25732 ventanas\n"
     ]
    },
    {
     "name": "stderr",
     "output_type": "stream",
     "text": [
      "/Users/gerardoaboulafia/Downloads/preprocessing.py:84: VisibleDeprecationWarning: Creating an ndarray from ragged nested sequences (which is a list-or-tuple of lists-or-tuples-or ndarrays with different lengths or shapes) is deprecated. If you meant to do this, you must specify 'dtype=object' when creating the ndarray.\n",
      "  return np.array(features_list), np.array(labels_list)\n"
     ]
    },
    {
     "name": "stdout",
     "output_type": "stream",
     "text": [
      " Procesando S4...\n",
      "Procesado: 0/25452 ventanas (0.0%)\n",
      "Procesado: 1273/25452 ventanas (5.0%)\n",
      "Procesado: 2546/25452 ventanas (10.0%)\n",
      "Procesado: 3819/25452 ventanas (15.0%)\n",
      "Procesado: 5092/25452 ventanas (20.0%)\n",
      "Procesado: 6365/25452 ventanas (25.0%)\n",
      "Procesado: 7638/25452 ventanas (30.0%)\n",
      "Procesado: 8911/25452 ventanas (35.0%)\n",
      "Procesado: 10184/25452 ventanas (40.0%)\n",
      "Procesado: 11457/25452 ventanas (45.0%)\n",
      "Procesado: 12730/25452 ventanas (50.0%)\n",
      "Procesado: 14003/25452 ventanas (55.0%)\n",
      "Procesado: 15276/25452 ventanas (60.0%)\n",
      "Procesado: 16549/25452 ventanas (65.0%)\n",
      "Procesado: 17822/25452 ventanas (70.0%)\n",
      "Procesado: 19095/25452 ventanas (75.0%)\n",
      "Procesado: 20368/25452 ventanas (80.0%)\n",
      "Procesado: 21641/25452 ventanas (85.0%)\n",
      "Procesado: 22914/25452 ventanas (90.0%)\n",
      "Procesado: 24187/25452 ventanas (95.0%)\n",
      "\n",
      " Extracción finalizada en 259.89 segundos.\n",
      " S4 procesado: 25452 ventanas\n"
     ]
    },
    {
     "name": "stderr",
     "output_type": "stream",
     "text": [
      "/Users/gerardoaboulafia/Downloads/preprocessing.py:84: VisibleDeprecationWarning: Creating an ndarray from ragged nested sequences (which is a list-or-tuple of lists-or-tuples-or ndarrays with different lengths or shapes) is deprecated. If you meant to do this, you must specify 'dtype=object' when creating the ndarray.\n",
      "  return np.array(features_list), np.array(labels_list)\n"
     ]
    },
    {
     "name": "stdout",
     "output_type": "stream",
     "text": [
      " Procesando S5...\n",
      "Procesado: 0/24792 ventanas (0.0%)\n",
      "Procesado: 1240/24792 ventanas (5.0%)\n",
      "Procesado: 2480/24792 ventanas (10.0%)\n",
      "Procesado: 3720/24792 ventanas (15.0%)\n",
      "Procesado: 4960/24792 ventanas (20.0%)\n",
      "Procesado: 6200/24792 ventanas (25.0%)\n",
      "Procesado: 7440/24792 ventanas (30.0%)\n",
      "Procesado: 8680/24792 ventanas (35.0%)\n",
      "Procesado: 9920/24792 ventanas (40.0%)\n",
      "Procesado: 11160/24792 ventanas (45.0%)\n",
      "Procesado: 12400/24792 ventanas (50.0%)\n",
      "Procesado: 13640/24792 ventanas (55.0%)\n",
      "Procesado: 14880/24792 ventanas (60.0%)\n",
      "Procesado: 16120/24792 ventanas (65.0%)\n",
      "Procesado: 17360/24792 ventanas (70.0%)\n",
      "Procesado: 18600/24792 ventanas (75.0%)\n",
      "Procesado: 19840/24792 ventanas (80.0%)\n",
      "Procesado: 21080/24792 ventanas (85.0%)\n",
      "Procesado: 22320/24792 ventanas (90.0%)\n",
      "Procesado: 23560/24792 ventanas (95.0%)\n",
      "\n",
      " Extracción finalizada en 252.61 segundos.\n",
      " S5 procesado: 24792 ventanas\n"
     ]
    },
    {
     "name": "stderr",
     "output_type": "stream",
     "text": [
      "/Users/gerardoaboulafia/Downloads/preprocessing.py:84: VisibleDeprecationWarning: Creating an ndarray from ragged nested sequences (which is a list-or-tuple of lists-or-tuples-or ndarrays with different lengths or shapes) is deprecated. If you meant to do this, you must specify 'dtype=object' when creating the ndarray.\n",
      "  return np.array(features_list), np.array(labels_list)\n"
     ]
    },
    {
     "name": "stdout",
     "output_type": "stream",
     "text": [
      " Procesando S6...\n",
      "Procesado: 0/28044 ventanas (0.0%)\n",
      "Procesado: 1403/28044 ventanas (5.0%)\n",
      "Procesado: 2806/28044 ventanas (10.0%)\n",
      "Procesado: 4209/28044 ventanas (15.0%)\n",
      "Procesado: 5612/28044 ventanas (20.0%)\n",
      "Procesado: 7015/28044 ventanas (25.0%)\n",
      "Procesado: 8418/28044 ventanas (30.0%)\n",
      "Procesado: 9821/28044 ventanas (35.0%)\n",
      "Procesado: 11224/28044 ventanas (40.0%)\n",
      "Procesado: 12627/28044 ventanas (45.0%)\n",
      "Procesado: 14030/28044 ventanas (50.0%)\n",
      "Procesado: 15433/28044 ventanas (55.0%)\n",
      "Procesado: 16836/28044 ventanas (60.0%)\n",
      "Procesado: 18239/28044 ventanas (65.0%)\n",
      "Procesado: 19642/28044 ventanas (70.0%)\n",
      "Procesado: 21045/28044 ventanas (75.0%)\n",
      "Procesado: 22448/28044 ventanas (80.0%)\n",
      "Procesado: 23851/28044 ventanas (85.0%)\n",
      "Procesado: 25254/28044 ventanas (90.1%)\n",
      "Procesado: 26657/28044 ventanas (95.1%)\n",
      "\n",
      " Extracción finalizada en 286.25 segundos.\n",
      " S6 procesado: 28044 ventanas\n"
     ]
    },
    {
     "name": "stderr",
     "output_type": "stream",
     "text": [
      "/Users/gerardoaboulafia/Downloads/preprocessing.py:84: VisibleDeprecationWarning: Creating an ndarray from ragged nested sequences (which is a list-or-tuple of lists-or-tuples-or ndarrays with different lengths or shapes) is deprecated. If you meant to do this, you must specify 'dtype=object' when creating the ndarray.\n",
      "  return np.array(features_list), np.array(labels_list)\n"
     ]
    },
    {
     "name": "stdout",
     "output_type": "stream",
     "text": [
      " Procesando S7...\n",
      "Procesado: 0/20712 ventanas (0.0%)\n",
      "Procesado: 1036/20712 ventanas (5.0%)\n",
      "Procesado: 2072/20712 ventanas (10.0%)\n",
      "Procesado: 3108/20712 ventanas (15.0%)\n",
      "Procesado: 4144/20712 ventanas (20.0%)\n",
      "Procesado: 5180/20712 ventanas (25.0%)\n",
      "Procesado: 6216/20712 ventanas (30.0%)\n",
      "Procesado: 7252/20712 ventanas (35.0%)\n",
      "Procesado: 8288/20712 ventanas (40.0%)\n",
      "Procesado: 9324/20712 ventanas (45.0%)\n",
      "Procesado: 10360/20712 ventanas (50.0%)\n",
      "Procesado: 11396/20712 ventanas (55.0%)\n",
      "Procesado: 12432/20712 ventanas (60.0%)\n",
      "Procesado: 13468/20712 ventanas (65.0%)\n",
      "Procesado: 14504/20712 ventanas (70.0%)\n",
      "Procesado: 15540/20712 ventanas (75.0%)\n",
      "Procesado: 16576/20712 ventanas (80.0%)\n",
      "Procesado: 17612/20712 ventanas (85.0%)\n",
      "Procesado: 18648/20712 ventanas (90.0%)\n",
      "Procesado: 19684/20712 ventanas (95.0%)\n",
      "\n",
      " Extracción finalizada en 211.38 segundos.\n",
      " S7 procesado: 20712 ventanas\n"
     ]
    },
    {
     "name": "stderr",
     "output_type": "stream",
     "text": [
      "/Users/gerardoaboulafia/Downloads/preprocessing.py:84: VisibleDeprecationWarning: Creating an ndarray from ragged nested sequences (which is a list-or-tuple of lists-or-tuples-or ndarrays with different lengths or shapes) is deprecated. If you meant to do this, you must specify 'dtype=object' when creating the ndarray.\n",
      "  return np.array(features_list), np.array(labels_list)\n"
     ]
    },
    {
     "name": "stdout",
     "output_type": "stream",
     "text": [
      " Procesando S8...\n",
      "Procesado: 0/21624 ventanas (0.0%)\n",
      "Procesado: 1082/21624 ventanas (5.0%)\n",
      "Procesado: 2164/21624 ventanas (10.0%)\n",
      "Procesado: 3246/21624 ventanas (15.0%)\n",
      "Procesado: 4328/21624 ventanas (20.0%)\n",
      "Procesado: 5410/21624 ventanas (25.0%)\n",
      "Procesado: 6492/21624 ventanas (30.0%)\n",
      "Procesado: 7574/21624 ventanas (35.0%)\n",
      "Procesado: 8656/21624 ventanas (40.0%)\n",
      "Procesado: 9738/21624 ventanas (45.0%)\n",
      "Procesado: 10820/21624 ventanas (50.0%)\n",
      "Procesado: 11902/21624 ventanas (55.0%)\n",
      "Procesado: 12984/21624 ventanas (60.0%)\n",
      "Procesado: 14066/21624 ventanas (65.0%)\n",
      "Procesado: 15148/21624 ventanas (70.1%)\n",
      "Procesado: 16230/21624 ventanas (75.1%)\n",
      "Procesado: 17312/21624 ventanas (80.1%)\n",
      "Procesado: 18394/21624 ventanas (85.1%)\n",
      "Procesado: 19476/21624 ventanas (90.1%)\n",
      "Procesado: 20558/21624 ventanas (95.1%)\n",
      "\n",
      " Extracción finalizada en 220.50 segundos.\n",
      " S8 procesado: 21624 ventanas\n"
     ]
    },
    {
     "name": "stderr",
     "output_type": "stream",
     "text": [
      "/Users/gerardoaboulafia/Downloads/preprocessing.py:84: VisibleDeprecationWarning: Creating an ndarray from ragged nested sequences (which is a list-or-tuple of lists-or-tuples-or ndarrays with different lengths or shapes) is deprecated. If you meant to do this, you must specify 'dtype=object' when creating the ndarray.\n",
      "  return np.array(features_list), np.array(labels_list)\n"
     ]
    },
    {
     "name": "stdout",
     "output_type": "stream",
     "text": [
      " Procesando S9...\n",
      "Procesado: 0/20652 ventanas (0.0%)\n",
      "Procesado: 1033/20652 ventanas (5.0%)\n",
      "Procesado: 2066/20652 ventanas (10.0%)\n",
      "Procesado: 3099/20652 ventanas (15.0%)\n",
      "Procesado: 4132/20652 ventanas (20.0%)\n",
      "Procesado: 5165/20652 ventanas (25.0%)\n",
      "Procesado: 6198/20652 ventanas (30.0%)\n",
      "Procesado: 7231/20652 ventanas (35.0%)\n",
      "Procesado: 8264/20652 ventanas (40.0%)\n",
      "Procesado: 9297/20652 ventanas (45.0%)\n",
      "Procesado: 10330/20652 ventanas (50.0%)\n",
      "Procesado: 11363/20652 ventanas (55.0%)\n",
      "Procesado: 12396/20652 ventanas (60.0%)\n",
      "Procesado: 13429/20652 ventanas (65.0%)\n",
      "Procesado: 14462/20652 ventanas (70.0%)\n",
      "Procesado: 15495/20652 ventanas (75.0%)\n",
      "Procesado: 16528/20652 ventanas (80.0%)\n",
      "Procesado: 17561/20652 ventanas (85.0%)\n",
      "Procesado: 18594/20652 ventanas (90.0%)\n",
      "Procesado: 19627/20652 ventanas (95.0%)\n",
      "\n",
      " Extracción finalizada en 210.81 segundos.\n",
      " S9 procesado: 20652 ventanas\n"
     ]
    },
    {
     "name": "stderr",
     "output_type": "stream",
     "text": [
      "/Users/gerardoaboulafia/Downloads/preprocessing.py:84: VisibleDeprecationWarning: Creating an ndarray from ragged nested sequences (which is a list-or-tuple of lists-or-tuples-or ndarrays with different lengths or shapes) is deprecated. If you meant to do this, you must specify 'dtype=object' when creating the ndarray.\n",
      "  return np.array(features_list), np.array(labels_list)\n"
     ]
    },
    {
     "name": "stdout",
     "output_type": "stream",
     "text": [
      " DataFrame final: (343872, 23)\n"
     ]
    }
   ],
   "source": [
    "#WESAD_ROOT = \"/Users/gerardoaboulafia/Library/Mobile Documents/com~apple~CloudDocs/UCA/Documentos/Cuatrimestre 5/Laboratorio/WESAD\"\n",
    "WESAD_ROOT = \"/Users/gerardoaboulafia/Library/Mobile Documents/com~apple~CloudDocs/UCA/Documentos/Cuatrimestre 5/Laboratorio/WESAD\"\n",
    "\n",
    "# ------------------------------------------------------------------\n",
    "# Procesamiento de todos los sujetos\n",
    "# ------------------------------------------------------------------\n",
    "\n",
    "all_subjects = []\n",
    "\n",
    "for subject_dir in sorted(os.listdir(WESAD_ROOT)):\n",
    "    subject_path = os.path.join(WESAD_ROOT, subject_dir)\n",
    "    if not os.path.isdir(subject_path):\n",
    "        continue\n",
    "\n",
    "    # Busca el .pkl\n",
    "    pkl_path = None\n",
    "    for root, _, files in os.walk(subject_path):\n",
    "        for file in files:\n",
    "            if file.lower().endswith(\".pkl\"):\n",
    "                pkl_path = os.path.join(root, file)\n",
    "                break\n",
    "        if pkl_path:\n",
    "            break\n",
    "    if not pkl_path:\n",
    "        print(f\" No se encontró .pkl en {subject_dir}\")\n",
    "        continue\n",
    "\n",
    "    # Busca el readme.txt con info demográfica\n",
    "    txt_path = None\n",
    "    for root, _, files in os.walk(subject_path):\n",
    "        for file in files:\n",
    "            if file.lower().endswith(\".txt\") and \"readme\" in file.lower():\n",
    "                txt_path = os.path.join(root, file)\n",
    "                break\n",
    "        if txt_path:\n",
    "            break\n",
    "\n",
    "    # Carga el archivo\n",
    "    try:\n",
    "        with open(pkl_path, \"rb\") as f:\n",
    "            data = pickle.load(f, encoding='latin1')\n",
    "    except Exception as e:\n",
    "        print(f\" Error cargando {subject_dir}: {e}\")\n",
    "        continue\n",
    "\n",
    "    print(f\" Procesando {subject_dir}...\")\n",
    "    X, y = extract_features_with_majority_label(data, verbose=True)\n",
    "\n",
    "    # Lo pasamos a DataFrame\n",
    "    colnames = [\n",
    "        'acc_mean', 'acc_std', 'acc_maxx', 'acc_maxy', 'acc_maxz',\n",
    "        'eda_max', 'eda_min', 'eda_mean', 'eda_range', 'eda_std', 'eda_slope',\n",
    "        'tmp_max', 'tmp_min', 'tmp_mean', 'tmp_range', 'tmp_std'\n",
    "    ]\n",
    "    df = pd.DataFrame(X, columns=colnames)\n",
    "    df[\"Label\"] = y\n",
    "    df[\"Paciente\"] = subject_dir\n",
    "\n",
    "    if txt_path:\n",
    "        info = parse_personal_info(txt_path)\n",
    "        for k, v in info.items():\n",
    "            df[k] = v\n",
    "\n",
    "    all_subjects.append(df)\n",
    "    print(f\" {subject_dir} procesado: {df.shape[0]} ventanas\")\n",
    "\n",
    "# ------------------------------------------------------------------\n",
    "# Unión final\n",
    "# ------------------------------------------------------------------\n",
    "\n",
    "if not all_subjects:\n",
    "    raise RuntimeError(\"No se procesó ningún sujeto.\")\n",
    "\n",
    "df_final = pd.concat(all_subjects, ignore_index=True)\n",
    "print(\" DataFrame final:\", df_final.shape)"
   ]
  }
 ],
 "metadata": {
  "kernelspec": {
   "display_name": "dhdsblend2021",
   "language": "python",
   "name": "python3"
  },
  "language_info": {
   "codemirror_mode": {
    "name": "ipython",
    "version": 3
   },
   "file_extension": ".py",
   "mimetype": "text/x-python",
   "name": "python",
   "nbconvert_exporter": "python",
   "pygments_lexer": "ipython3",
   "version": "3.8.13"
  }
 },
 "nbformat": 4,
 "nbformat_minor": 5
}
